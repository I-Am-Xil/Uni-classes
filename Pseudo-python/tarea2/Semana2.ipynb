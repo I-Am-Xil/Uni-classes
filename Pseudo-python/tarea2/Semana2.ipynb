{
 "cells": [
  {
   "cell_type": "code",
   "execution_count": 2,
   "metadata": {},
   "outputs": [
    {
     "name": "stdout",
     "output_type": "stream",
     "text": [
      "Introduzca su nombre: Logan\n"
     ]
    }
   ],
   "source": [
    "nombre = input(\"Introduzca su nombre: \")"
   ]
  },
  {
   "cell_type": "code",
   "execution_count": 3,
   "metadata": {},
   "outputs": [
    {
     "name": "stdout",
     "output_type": "stream",
     "text": [
      "¿Eres Logan?\n"
     ]
    }
   ],
   "source": [
    "print(\"¿Eres \" + nombre + '?')"
   ]
  },
  {
   "cell_type": "code",
   "execution_count": 4,
   "metadata": {},
   "outputs": [
    {
     "name": "stdout",
     "output_type": "stream",
     "text": [
      "hace mucho frio\n"
     ]
    }
   ],
   "source": [
    "str = \"hace mucho\"\n",
    "clima = \"frio\"\n",
    "print(str + ' ' + clima)"
   ]
  },
  {
   "cell_type": "code",
   "execution_count": 5,
   "metadata": {},
   "outputs": [
    {
     "name": "stdout",
     "output_type": "stream",
     "text": [
      "9\n",
      "Introduzca un numero: 11\n",
      "121.0\n"
     ]
    }
   ],
   "source": [
    "run programa1.py"
   ]
  },
  {
   "cell_type": "code",
   "execution_count": 1,
   "metadata": {},
   "outputs": [
    {
     "name": "stdout",
     "output_type": "stream",
     "text": [
      "introduzca un numero entero: 3\n",
      "\n",
      "El numero es impar\n",
      "Hecho con condicionales\n"
     ]
    }
   ],
   "source": [
    "run programa2.py"
   ]
  },
  {
   "cell_type": "code",
   "execution_count": 2,
   "metadata": {},
   "outputs": [],
   "source": [
    "#Out: \\n\n",
    "if 6 > 7:\n",
    "    print(\"yep\")"
   ]
  },
  {
   "cell_type": "code",
   "execution_count": 6,
   "metadata": {},
   "outputs": [
    {
     "name": "stdout",
     "output_type": "stream",
     "text": [
      "Nope\n"
     ]
    }
   ],
   "source": [
    "#Out: Nope\n",
    "if 6 > 7:\n",
    "    print(\"Yep\")\n",
    "else:\n",
    "    print(\"Nope\")"
   ]
  },
  {
   "cell_type": "code",
   "execution_count": 7,
   "metadata": {},
   "outputs": [
    {
     "name": "stdout",
     "output_type": "stream",
     "text": [
      "Regio!\n"
     ]
    }
   ],
   "source": [
    "#Out: Regio! \n",
    "var = \"Panda\"\n",
    "if var  == \"panda\":\n",
    "    print(\"Cute!\")\n",
    "elif var  == \"Panda\":\n",
    "    print(\"Regio!\")\n",
    "else:\n",
    "    print(\"que feo...\")"
   ]
  },
  {
   "cell_type": "code",
   "execution_count": 9,
   "metadata": {},
   "outputs": [
    {
     "ename": "TypeError",
     "evalue": "'>' not supported between instances of 'str' and 'int'",
     "output_type": "error",
     "traceback": [
      "\u001b[1;31m---------------------------------------------------------------------------\u001b[0m",
      "\u001b[1;31mTypeError\u001b[0m                                 Traceback (most recent call last)",
      "\u001b[1;32m<ipython-input-9-891c438d6115>\u001b[0m in \u001b[0;36m<module>\u001b[1;34m\u001b[0m\n\u001b[0;32m      1\u001b[0m \u001b[1;31m#Out: Type error\u001b[0m\u001b[1;33m\u001b[0m\u001b[1;33m\u001b[0m\u001b[1;33m\u001b[0m\u001b[0m\n\u001b[0;32m      2\u001b[0m \u001b[0mtemp\u001b[0m \u001b[1;33m=\u001b[0m \u001b[1;34m'5'\u001b[0m\u001b[1;33m\u001b[0m\u001b[1;33m\u001b[0m\u001b[0m\n\u001b[1;32m----> 3\u001b[1;33m \u001b[1;32mif\u001b[0m \u001b[0mtemp\u001b[0m \u001b[1;33m>\u001b[0m \u001b[1;36m30\u001b[0m\u001b[1;33m:\u001b[0m\u001b[1;33m\u001b[0m\u001b[1;33m\u001b[0m\u001b[0m\n\u001b[0m\u001b[0;32m      4\u001b[0m     \u001b[0mprint\u001b[0m\u001b[1;33m(\u001b[0m\u001b[1;34m\"Calor\"\u001b[0m\u001b[1;33m)\u001b[0m\u001b[1;33m\u001b[0m\u001b[1;33m\u001b[0m\u001b[0m\n\u001b[0;32m      5\u001b[0m \u001b[1;32melif\u001b[0m \u001b[0mtemp\u001b[0m \u001b[1;33m>\u001b[0m \u001b[1;36m24\u001b[0m\u001b[1;33m:\u001b[0m\u001b[1;33m\u001b[0m\u001b[1;33m\u001b[0m\u001b[0m\n",
      "\u001b[1;31mTypeError\u001b[0m: '>' not supported between instances of 'str' and 'int'"
     ]
    }
   ],
   "source": [
    "#Out: Type error\n",
    "temp = '5'\n",
    "if temp > 30:\n",
    "    print(\"Calor\")\n",
    "elif temp > 24:\n",
    "    print(\"Agradable\")\n",
    "else:\n",
    "    print(\"Frio... brrr\")"
   ]
  },
  {
   "cell_type": "code",
   "execution_count": 11,
   "metadata": {},
   "outputs": [
    {
     "name": "stdout",
     "output_type": "stream",
     "text": [
      "Calor\n"
     ]
    }
   ],
   "source": [
    "#Out: Calor\n",
    "temp = 42\n",
    "if temp > 30:\n",
    "    print(\"Calor\")\n",
    "elif temp > 40:\n",
    "    print(\"muy caliente!\")\n",
    "elif temp > 24:\n",
    "    print(\"Confortable\")\n",
    "else:\n",
    "    print(\"Frio\")"
   ]
  },
  {
   "cell_type": "code",
   "execution_count": 12,
   "metadata": {},
   "outputs": [
    {
     "name": "stdout",
     "output_type": "stream",
     "text": [
      "Cold\n"
     ]
    }
   ],
   "source": [
    "#Out: Cold\n",
    "temp = 50\n",
    "if temp > 85:\n",
    "    print(\"Hot\")\n",
    "elif temp > 100:\n",
    "    print(\"REALLY HOT!\")\n",
    "elif temp > 60:\n",
    "    print(\"Confortable\")\n",
    "else:\n",
    "    print(\"Cold\")"
   ]
  },
  {
   "cell_type": "code",
   "execution_count": 13,
   "metadata": {},
   "outputs": [
    {
     "name": "stdout",
     "output_type": "stream",
     "text": [
      "4*4 = 16\n"
     ]
    }
   ],
   "source": [
    "x = 4\n",
    "ans = 0\n",
    "itersLeft = x\n",
    "while(itersLeft != 0):\n",
    "    ans = ans + x\n",
    "    itersLeft = itersLeft - 1\n",
    "print(str(x) + '*' + str(x) + ' = ' + str(ans))"
   ]
  },
  {
   "cell_type": "code",
   "execution_count": 17,
   "metadata": {},
   "outputs": [
    {
     "name": "stdout",
     "output_type": "stream",
     "text": [
      "0\n",
      "1\n",
      "2\n",
      "3\n",
      "4\n",
      "5\n",
      "fuera del bucle\n",
      "6\n"
     ]
    }
   ],
   "source": [
    "#Out:0\n",
    "#    1\n",
    "#    2\n",
    "#    3\n",
    "#    4\n",
    "#    5\n",
    "#    fuera del bucle\n",
    "#    6\n",
    "num = 0\n",
    "while(num <= 5):\n",
    "    print(num)\n",
    "    num += 1\n",
    "print(\"fuera del bucle\")\n",
    "print(num)"
   ]
  },
  {
   "cell_type": "code",
   "execution_count": 15,
   "metadata": {},
   "outputs": [
    {
     "name": "stdout",
     "output_type": "stream",
     "text": [
      "5\n",
      "4\n"
     ]
    }
   ],
   "source": [
    "#Out:5\n",
    "#    4\n",
    "num = 5\n",
    "if num > 2:\n",
    "    print(num)\n",
    "    num -= 1\n",
    "print(num)"
   ]
  },
  {
   "cell_type": "code",
   "execution_count": null,
   "metadata": {},
   "outputs": [],
   "source": [
    "#Ciclo while infinito\n",
    "numeroDeBucles = 0\n",
    "numeroDeManzanas = 2\n",
    "while(numeroDeBucles < 10):\n",
    "    numeroDeManzanas *= 2\n",
    "    numeroDeManzanas += numeroDeBucles\n",
    "    numeroDeBucles -= 1\n",
    "print(\"Numero de manzanas: \" + str(numeroDeManzanas))"
   ]
  },
  {
   "cell_type": "code",
   "execution_count": 5,
   "metadata": {},
   "outputs": [
    {
     "name": "stdout",
     "output_type": "stream",
     "text": [
      "9\n",
      "8\n",
      "7\n",
      "6\n",
      "5\n",
      "4\n",
      "3\n"
     ]
    }
   ],
   "source": [
    "#Out: 9\n",
    "#     8\n",
    "#     7\n",
    "#     6\n",
    "#     5\n",
    "#     4\n",
    "#     3\n",
    "num = 10\n",
    "while(num > 3):\n",
    "    num -= 1\n",
    "    print(num)"
   ]
  },
  {
   "cell_type": "code",
   "execution_count": 2,
   "metadata": {},
   "outputs": [
    {
     "name": "stdout",
     "output_type": "stream",
     "text": [
      "10\n",
      "9\n",
      "8\n",
      "7\n",
      "Rompe el bucle\n",
      "Fuera del bucle\n"
     ]
    }
   ],
   "source": [
    "#Out: 10\n",
    "#     9\n",
    "#     8\n",
    "#     7\n",
    "#     Rompe el bucle\n",
    "#     Fuera del bucle\n",
    "num = 10\n",
    "while(True):\n",
    "    if(num < 7):\n",
    "        print(\"Rompe el bucle\")\n",
    "        break\n",
    "    print(num)\n",
    "    num -= 1\n",
    "print(\"Fuera del bucle\")"
   ]
  },
  {
   "cell_type": "code",
   "execution_count": null,
   "metadata": {},
   "outputs": [],
   "source": [
    "#Out: Ciclo while infinito\n",
    "num = 100\n",
    "while(not False):\n",
    "    if(num < 0):\n",
    "        break\n",
    "print(\"num is: \" + str(num)) "
   ]
  },
  {
   "cell_type": "code",
   "execution_count": 17,
   "metadata": {},
   "outputs": [
    {
     "name": "stdout",
     "output_type": "stream",
     "text": [
      "1\n",
      "3\n",
      "6\n",
      "10\n",
      "15\n",
      "21\n",
      "28\n",
      "36\n",
      "45\n",
      "End:  9 La suma desde 1 hasta end:  45\n"
     ]
    }
   ],
   "source": [
    "import random as rd\n",
    "end = rd.randint(5, 11)\n",
    "i = 1\n",
    "Suma_i = 0\n",
    "while i <= end:\n",
    "    Suma_i += i \n",
    "    i = i + 1\n",
    "    print(Suma_i)\n",
    "print(\"End: \", end, \"La suma desde 1 hasta end: \", Suma_i)"
   ]
  },
  {
   "cell_type": "code",
   "execution_count": 24,
   "metadata": {},
   "outputs": [
    {
     "name": "stdout",
     "output_type": "stream",
     "text": [
      "Hola!\n",
      "10\n",
      "8\n",
      "6\n",
      "4\n",
      "2\n",
      "2\n",
      "4\n",
      "6\n",
      "8\n",
      "10\n",
      "Adios!\n"
     ]
    }
   ],
   "source": [
    "print(\"Hola!\")\n",
    "\n",
    "i = 12\n",
    "\n",
    "while i > 2:\n",
    "    i -= 2\n",
    "    print(i)\n",
    "\n",
    "while i < 12:\n",
    "    print(i)\n",
    "    i += 2\n",
    "    \n",
    "print(\"Adios!\")"
   ]
  },
  {
   "cell_type": "code",
   "execution_count": null,
   "metadata": {},
   "outputs": [],
   "source": []
  }
 ],
 "metadata": {
  "kernelspec": {
   "display_name": "Python 3",
   "language": "python",
   "name": "python3"
  },
  "language_info": {
   "codemirror_mode": {
    "name": "ipython",
    "version": 3
   },
   "file_extension": ".py",
   "mimetype": "text/x-python",
   "name": "python",
   "nbconvert_exporter": "python",
   "pygments_lexer": "ipython3",
   "version": "3.8.5"
  }
 },
 "nbformat": 4,
 "nbformat_minor": 4
}
